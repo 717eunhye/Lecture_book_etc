{
 "cells": [
  {
   "cell_type": "code",
   "execution_count": 1,
   "id": "babf7e7a",
   "metadata": {},
   "outputs": [],
   "source": [
    "import os\n",
    "import pandas as pd\n",
    "import numpy as np\n",
    "import warnings\n",
    "import matplotlib.pyplot as plt\n",
    "import matplotlib as mpl\n",
    "import matplotlib.pyplot as plt\n",
    "import matplotlib.font_manager as fm\n",
    "import seaborn as sns\n",
    "\n",
    "%matplotlib inline\n",
    "\n",
    "fm.get_fontconfig_fonts()\n",
    "plt.rc('font', family='Malgun Gothic')\n",
    "plt.rc('axes', unicode_minus=False)\n",
    "\n",
    "%config InlineBackend.figure_format='retina'\n",
    "\n",
    "warnings.filterwarnings('ignore')\n",
    "pd.set_option('display.max_columns', None)"
   ]
  },
  {
   "cell_type": "markdown",
   "id": "b6589438",
   "metadata": {},
   "source": [
    "### 예제 데이터 실습"
   ]
  },
  {
   "cell_type": "markdown",
   "id": "6b5c0c9c",
   "metadata": {},
   "source": [
    "#### 1. 데이터 불러오기 "
   ]
  },
  {
   "cell_type": "code",
   "execution_count": 4,
   "id": "ccf67f60",
   "metadata": {},
   "outputs": [
    {
     "data": {
      "text/html": [
       "<div>\n",
       "<style scoped>\n",
       "    .dataframe tbody tr th:only-of-type {\n",
       "        vertical-align: middle;\n",
       "    }\n",
       "\n",
       "    .dataframe tbody tr th {\n",
       "        vertical-align: top;\n",
       "    }\n",
       "\n",
       "    .dataframe thead th {\n",
       "        text-align: right;\n",
       "    }\n",
       "</style>\n",
       "<table border=\"1\" class=\"dataframe\">\n",
       "  <thead>\n",
       "    <tr style=\"text-align: right;\">\n",
       "      <th></th>\n",
       "      <th>review_id</th>\n",
       "      <th>user_id</th>\n",
       "      <th>business_id</th>\n",
       "      <th>stars</th>\n",
       "      <th>date</th>\n",
       "      <th>text</th>\n",
       "      <th>useful</th>\n",
       "      <th>funny</th>\n",
       "      <th>cool</th>\n",
       "    </tr>\n",
       "  </thead>\n",
       "  <tbody>\n",
       "    <tr>\n",
       "      <th>2967245</th>\n",
       "      <td>aMleVK0lQcOSNCs56_gSbg</td>\n",
       "      <td>miHaLnLanDKfZqZHet0uWw</td>\n",
       "      <td>Xp_cWXY5rxDLkX-wqUg-iQ</td>\n",
       "      <td>5</td>\n",
       "      <td>2015-09-30</td>\n",
       "      <td>LOVE the cheeses here.  They are worth the pri...</td>\n",
       "      <td>0</td>\n",
       "      <td>0</td>\n",
       "      <td>1</td>\n",
       "    </tr>\n",
       "    <tr>\n",
       "      <th>4773684</th>\n",
       "      <td>Hs1f--t9JnVKW9A1U2uhKA</td>\n",
       "      <td>r_RUQSGZcd5bSgmTcS5IfQ</td>\n",
       "      <td>NuGZD3yBVqzpY1HuzT26mQ</td>\n",
       "      <td>5</td>\n",
       "      <td>2015-06-04</td>\n",
       "      <td>This has become our go-to sushi place. The sus...</td>\n",
       "      <td>0</td>\n",
       "      <td>0</td>\n",
       "      <td>0</td>\n",
       "    </tr>\n",
       "    <tr>\n",
       "      <th>1139855</th>\n",
       "      <td>i7aiPgNrNaFoM8J_j2OSyQ</td>\n",
       "      <td>zz7lojg6QdZbKFCJiHsj7w</td>\n",
       "      <td>ii8sAGBexBOJoYRFafF9XQ</td>\n",
       "      <td>1</td>\n",
       "      <td>2016-07-03</td>\n",
       "      <td>I was very disappointed with the hotel. The re...</td>\n",
       "      <td>2</td>\n",
       "      <td>1</td>\n",
       "      <td>1</td>\n",
       "    </tr>\n",
       "  </tbody>\n",
       "</table>\n",
       "</div>"
      ],
      "text/plain": [
       "                      review_id                 user_id  \\\n",
       "2967245  aMleVK0lQcOSNCs56_gSbg  miHaLnLanDKfZqZHet0uWw   \n",
       "4773684  Hs1f--t9JnVKW9A1U2uhKA  r_RUQSGZcd5bSgmTcS5IfQ   \n",
       "1139855  i7aiPgNrNaFoM8J_j2OSyQ  zz7lojg6QdZbKFCJiHsj7w   \n",
       "\n",
       "                    business_id  stars        date  \\\n",
       "2967245  Xp_cWXY5rxDLkX-wqUg-iQ      5  2015-09-30   \n",
       "4773684  NuGZD3yBVqzpY1HuzT26mQ      5  2015-06-04   \n",
       "1139855  ii8sAGBexBOJoYRFafF9XQ      1  2016-07-03   \n",
       "\n",
       "                                                      text  useful  funny  \\\n",
       "2967245  LOVE the cheeses here.  They are worth the pri...       0      0   \n",
       "4773684  This has become our go-to sushi place. The sus...       0      0   \n",
       "1139855  I was very disappointed with the hotel. The re...       2      1   \n",
       "\n",
       "         cool  \n",
       "2967245     1  \n",
       "4773684     0  \n",
       "1139855     1  "
      ]
     },
     "metadata": {},
     "output_type": "display_data"
    },
    {
     "name": "stdout",
     "output_type": "stream",
     "text": [
      "<class 'pandas.core.frame.DataFrame'>\n",
      "Int64Index: 10000 entries, 2967245 to 838267\n",
      "Data columns (total 9 columns):\n",
      " #   Column       Non-Null Count  Dtype \n",
      "---  ------       --------------  ----- \n",
      " 0   review_id    10000 non-null  object\n",
      " 1   user_id      10000 non-null  object\n",
      " 2   business_id  10000 non-null  object\n",
      " 3   stars        10000 non-null  int64 \n",
      " 4   date         10000 non-null  object\n",
      " 5   text         10000 non-null  object\n",
      " 6   useful       10000 non-null  int64 \n",
      " 7   funny        10000 non-null  int64 \n",
      " 8   cool         10000 non-null  int64 \n",
      "dtypes: int64(4), object(5)\n",
      "memory usage: 781.2+ KB\n",
      "None\n"
     ]
    }
   ],
   "source": [
    "data = pd.read_csv('./data/yelp.csv', index_col = 0)\n",
    "display(data.head(3))\n",
    "print(data.info())"
   ]
  },
  {
   "cell_type": "code",
   "execution_count": 5,
   "id": "e2472f49",
   "metadata": {},
   "outputs": [
    {
     "data": {
      "text/html": [
       "<div>\n",
       "<style scoped>\n",
       "    .dataframe tbody tr th:only-of-type {\n",
       "        vertical-align: middle;\n",
       "    }\n",
       "\n",
       "    .dataframe tbody tr th {\n",
       "        vertical-align: top;\n",
       "    }\n",
       "\n",
       "    .dataframe thead th {\n",
       "        text-align: right;\n",
       "    }\n",
       "</style>\n",
       "<table border=\"1\" class=\"dataframe\">\n",
       "  <thead>\n",
       "    <tr style=\"text-align: right;\">\n",
       "      <th></th>\n",
       "      <th>stars</th>\n",
       "      <th>useful</th>\n",
       "      <th>funny</th>\n",
       "      <th>cool</th>\n",
       "    </tr>\n",
       "  </thead>\n",
       "  <tbody>\n",
       "    <tr>\n",
       "      <th>count</th>\n",
       "      <td>10000.000000</td>\n",
       "      <td>10000.000000</td>\n",
       "      <td>10000.000000</td>\n",
       "      <td>10000.000000</td>\n",
       "    </tr>\n",
       "    <tr>\n",
       "      <th>mean</th>\n",
       "      <td>4.012800</td>\n",
       "      <td>1.498800</td>\n",
       "      <td>0.464200</td>\n",
       "      <td>0.542500</td>\n",
       "    </tr>\n",
       "    <tr>\n",
       "      <th>std</th>\n",
       "      <td>1.724684</td>\n",
       "      <td>6.339355</td>\n",
       "      <td>1.926523</td>\n",
       "      <td>2.010273</td>\n",
       "    </tr>\n",
       "    <tr>\n",
       "      <th>min</th>\n",
       "      <td>1.000000</td>\n",
       "      <td>0.000000</td>\n",
       "      <td>0.000000</td>\n",
       "      <td>0.000000</td>\n",
       "    </tr>\n",
       "    <tr>\n",
       "      <th>25%</th>\n",
       "      <td>5.000000</td>\n",
       "      <td>0.000000</td>\n",
       "      <td>0.000000</td>\n",
       "      <td>0.000000</td>\n",
       "    </tr>\n",
       "    <tr>\n",
       "      <th>50%</th>\n",
       "      <td>5.000000</td>\n",
       "      <td>0.000000</td>\n",
       "      <td>0.000000</td>\n",
       "      <td>0.000000</td>\n",
       "    </tr>\n",
       "    <tr>\n",
       "      <th>75%</th>\n",
       "      <td>5.000000</td>\n",
       "      <td>2.000000</td>\n",
       "      <td>0.000000</td>\n",
       "      <td>0.000000</td>\n",
       "    </tr>\n",
       "    <tr>\n",
       "      <th>max</th>\n",
       "      <td>5.000000</td>\n",
       "      <td>533.000000</td>\n",
       "      <td>83.000000</td>\n",
       "      <td>97.000000</td>\n",
       "    </tr>\n",
       "  </tbody>\n",
       "</table>\n",
       "</div>"
      ],
      "text/plain": [
       "              stars        useful         funny          cool\n",
       "count  10000.000000  10000.000000  10000.000000  10000.000000\n",
       "mean       4.012800      1.498800      0.464200      0.542500\n",
       "std        1.724684      6.339355      1.926523      2.010273\n",
       "min        1.000000      0.000000      0.000000      0.000000\n",
       "25%        5.000000      0.000000      0.000000      0.000000\n",
       "50%        5.000000      0.000000      0.000000      0.000000\n",
       "75%        5.000000      2.000000      0.000000      0.000000\n",
       "max        5.000000    533.000000     83.000000     97.000000"
      ]
     },
     "execution_count": 5,
     "metadata": {},
     "output_type": "execute_result"
    }
   ],
   "source": [
    "data.describe()"
   ]
  },
  {
   "cell_type": "markdown",
   "id": "af8a2487",
   "metadata": {},
   "source": [
    "#### 2. EDA 데이터 파악"
   ]
  },
  {
   "cell_type": "code",
   "execution_count": 6,
   "id": "220a966f",
   "metadata": {},
   "outputs": [
    {
     "data": {
      "text/html": [
       "<div>\n",
       "<style scoped>\n",
       "    .dataframe tbody tr th:only-of-type {\n",
       "        vertical-align: middle;\n",
       "    }\n",
       "\n",
       "    .dataframe tbody tr th {\n",
       "        vertical-align: top;\n",
       "    }\n",
       "\n",
       "    .dataframe thead th {\n",
       "        text-align: right;\n",
       "    }\n",
       "</style>\n",
       "<table border=\"1\" class=\"dataframe\">\n",
       "  <thead>\n",
       "    <tr style=\"text-align: right;\">\n",
       "      <th></th>\n",
       "      <th>stars</th>\n",
       "      <th>text</th>\n",
       "      <th>useful</th>\n",
       "      <th>funny</th>\n",
       "      <th>cool</th>\n",
       "    </tr>\n",
       "  </thead>\n",
       "  <tbody>\n",
       "    <tr>\n",
       "      <th>2967245</th>\n",
       "      <td>5</td>\n",
       "      <td>LOVE the cheeses here.  They are worth the pri...</td>\n",
       "      <td>0</td>\n",
       "      <td>0</td>\n",
       "      <td>1</td>\n",
       "    </tr>\n",
       "    <tr>\n",
       "      <th>4773684</th>\n",
       "      <td>5</td>\n",
       "      <td>This has become our go-to sushi place. The sus...</td>\n",
       "      <td>0</td>\n",
       "      <td>0</td>\n",
       "      <td>0</td>\n",
       "    </tr>\n",
       "    <tr>\n",
       "      <th>1139855</th>\n",
       "      <td>1</td>\n",
       "      <td>I was very disappointed with the hotel. The re...</td>\n",
       "      <td>2</td>\n",
       "      <td>1</td>\n",
       "      <td>1</td>\n",
       "    </tr>\n",
       "  </tbody>\n",
       "</table>\n",
       "</div>"
      ],
      "text/plain": [
       "         stars                                               text  useful  \\\n",
       "2967245      5  LOVE the cheeses here.  They are worth the pri...       0   \n",
       "4773684      5  This has become our go-to sushi place. The sus...       0   \n",
       "1139855      1  I was very disappointed with the hotel. The re...       2   \n",
       "\n",
       "         funny  cool  \n",
       "2967245      0     1  \n",
       "4773684      0     0  \n",
       "1139855      1     1  "
      ]
     },
     "execution_count": 6,
     "metadata": {},
     "output_type": "execute_result"
    }
   ],
   "source": [
    "# 불필요한 데이터 삭제\n",
    "data.drop(['review_id', 'user_id', 'business_id', 'date'], axis = 1, inplace = True)\n",
    "data.head(3)"
   ]
  },
  {
   "cell_type": "code",
   "execution_count": 8,
   "id": "1a0034bb",
   "metadata": {},
   "outputs": [
    {
     "name": "stdout",
     "output_type": "stream",
     "text": [
      "LOVE the cheeses here.  They are worth the price.  Great for finding treats for a special dinner or picnic.  Nice on sample days. Yum!!! Top quality meats. Nice selection of non brand frozen veggies.  Veggie chips are mega tasty.  Always quick and friendly check out.  Produce not as stellar as it once was, but also not finding better in Madison.\n"
     ]
    },
    {
     "data": {
      "text/plain": [
       "347"
      ]
     },
     "execution_count": 8,
     "metadata": {},
     "output_type": "execute_result"
    }
   ],
   "source": [
    "print(data.iloc[0]['text'])\n",
    "len(data.iloc[0]['text'])"
   ]
  },
  {
   "cell_type": "code",
   "execution_count": 10,
   "id": "927e332a",
   "metadata": {},
   "outputs": [
    {
     "data": {
      "text/html": [
       "<div>\n",
       "<style scoped>\n",
       "    .dataframe tbody tr th:only-of-type {\n",
       "        vertical-align: middle;\n",
       "    }\n",
       "\n",
       "    .dataframe tbody tr th {\n",
       "        vertical-align: top;\n",
       "    }\n",
       "\n",
       "    .dataframe thead th {\n",
       "        text-align: right;\n",
       "    }\n",
       "</style>\n",
       "<table border=\"1\" class=\"dataframe\">\n",
       "  <thead>\n",
       "    <tr style=\"text-align: right;\">\n",
       "      <th></th>\n",
       "      <th>stars</th>\n",
       "      <th>text</th>\n",
       "      <th>useful</th>\n",
       "      <th>funny</th>\n",
       "      <th>cool</th>\n",
       "      <th>text_length</th>\n",
       "    </tr>\n",
       "  </thead>\n",
       "  <tbody>\n",
       "    <tr>\n",
       "      <th>2967245</th>\n",
       "      <td>5</td>\n",
       "      <td>LOVE the cheeses here.  They are worth the pri...</td>\n",
       "      <td>0</td>\n",
       "      <td>0</td>\n",
       "      <td>1</td>\n",
       "      <td>347</td>\n",
       "    </tr>\n",
       "    <tr>\n",
       "      <th>4773684</th>\n",
       "      <td>5</td>\n",
       "      <td>This has become our go-to sushi place. The sus...</td>\n",
       "      <td>0</td>\n",
       "      <td>0</td>\n",
       "      <td>0</td>\n",
       "      <td>377</td>\n",
       "    </tr>\n",
       "    <tr>\n",
       "      <th>1139855</th>\n",
       "      <td>1</td>\n",
       "      <td>I was very disappointed with the hotel. The re...</td>\n",
       "      <td>2</td>\n",
       "      <td>1</td>\n",
       "      <td>1</td>\n",
       "      <td>663</td>\n",
       "    </tr>\n",
       "  </tbody>\n",
       "</table>\n",
       "</div>"
      ],
      "text/plain": [
       "         stars                                               text  useful  \\\n",
       "2967245      5  LOVE the cheeses here.  They are worth the pri...       0   \n",
       "4773684      5  This has become our go-to sushi place. The sus...       0   \n",
       "1139855      1  I was very disappointed with the hotel. The re...       2   \n",
       "\n",
       "         funny  cool  text_length  \n",
       "2967245      0     1          347  \n",
       "4773684      0     0          377  \n",
       "1139855      1     1          663  "
      ]
     },
     "execution_count": 10,
     "metadata": {},
     "output_type": "execute_result"
    }
   ],
   "source": [
    "# 텍스트 글자 수를 의미하는 새로운 변수 생성\n",
    "data['text_length'] = data['text'].apply(len)\n",
    "data.head(3)"
   ]
  },
  {
   "cell_type": "code",
   "execution_count": 11,
   "id": "aea60558",
   "metadata": {},
   "outputs": [
    {
     "data": {
      "text/plain": [
       "5    7532\n",
       "1    2468\n",
       "Name: stars, dtype: int64"
      ]
     },
     "execution_count": 11,
     "metadata": {},
     "output_type": "execute_result"
    }
   ],
   "source": [
    "data['stars'].value_counts()"
   ]
  },
  {
   "cell_type": "code",
   "execution_count": 12,
   "id": "7ef6f206",
   "metadata": {},
   "outputs": [
    {
     "data": {
      "text/plain": [
       "<AxesSubplot:xlabel='stars', ylabel='count'>"
      ]
     },
     "execution_count": 12,
     "metadata": {},
     "output_type": "execute_result"
    },
    {
     "data": {
      "image/png": "[encoded data removed]",
      "text/plain": [
       "<Figure size 432x288 with 1 Axes>"
      ]
     },
     "metadata": {
      "image/png": {
       "height": 263,
       "width": 392
      },
      "needs_background": "light"
     },
     "output_type": "display_data"
    }
   ],
   "source": [
    "# 별점 분포 확인\n",
    "sns.countplot(data['stars'])"
   ]
  },
  {
   "cell_type": "code",
   "execution_count": 14,
   "id": "f7e99699",
   "metadata": {},
   "outputs": [
    {
     "data": {
      "text/plain": [
       "<AxesSubplot:xlabel='text_length', ylabel='Density'>"
      ]
     },
     "execution_count": 14,
     "metadata": {},
     "output_type": "execute_result"
    },
    {
     "data": {
      "image/png": "[encoded data removed]",
      "text/plain": [
       "<Figure size 432x288 with 1 Axes>"
      ]
     },
     "metadata": {
      "image/png": {
       "height": 263,
       "width": 405
      },
      "needs_background": "light"
     },
     "output_type": "display_data"
    }
   ],
   "source": [
    "# 리뷰 글자 수 분포 확인\n",
    "sns.distplot(data['text_length'])"
   ]
  },
  {
   "cell_type": "code",
   "execution_count": 17,
   "id": "d80371d8",
   "metadata": {},
   "outputs": [
    {
     "data": {
      "text/plain": [
       "<AxesSubplot:>"
      ]
     },
     "execution_count": 17,
     "metadata": {},
     "output_type": "execute_result"
    },
    {
     "data": {
      "image/png": "[encoded data removed]",
      "text/plain": [
       "<Figure size 432x288 with 2 Axes>"
      ]
     },
     "metadata": {
      "image/png": {
       "height": 253,
       "width": 351
      },
      "needs_background": "light"
     },
     "output_type": "display_data"
    }
   ],
   "source": [
    "# 변수간 상관분석\n",
    "sns.heatmap(data.corr(), cmap = 'coolwarm')"
   ]
  },
  {
   "cell_type": "code",
   "execution_count": null,
   "id": "6eda28e4",
   "metadata": {},
   "outputs": [],
   "source": [
    "##### 워드클라우드"
   ]
  },
  {
   "cell_type": "code",
   "execution_count": 18,
   "id": "30704fc2",
   "metadata": {},
   "outputs": [
    {
     "data": {
      "text/plain": [
       "2967245    LOVE the cheeses here.  They are worth the pri...\n",
       "4773684    This has become our go-to sushi place. The sus...\n",
       "1139855    I was very disappointed with the hotel. The re...\n",
       "3997153    Love this place - super amazing - staff here i...\n",
       "4262000    Thank you Dana!!!! Having dyed my hair black p...\n",
       "                                 ...                        \n",
       "1567641    I'm a sucker for places like this. Get me in f...\n",
       "4910763    Extremely rude staff!  Was told 4 min on a lar...\n",
       "1036315    I live in NYC and went to the RTR here in the ...\n",
       "555962     If you are looking for a trainer, then look no...\n",
       "838267     Awesome food. Awesome beer. Awesome service. N...\n",
       "Name: text, Length: 10000, dtype: object"
      ]
     },
     "execution_count": 18,
     "metadata": {},
     "output_type": "execute_result"
    }
   ],
   "source": [
    "data['text']"
   ]
  },
  {
   "cell_type": "code",
   "execution_count": 20,
   "id": "dd78413e",
   "metadata": {},
   "outputs": [
    {
     "data": {
      "text/plain": [
       "'!\"#$%&\\'()*+,-./:;<=>?@[\\\\]^_`{|}~'"
      ]
     },
     "execution_count": 20,
     "metadata": {},
     "output_type": "execute_result"
    }
   ],
   "source": [
    "# 특수문자가 포함된 함수\n",
    "import string\n",
    "\n",
    "string.punctuation"
   ]
  },
  {
   "cell_type": "code",
   "execution_count": 26,
   "id": "0a2c2411",
   "metadata": {},
   "outputs": [
    {
     "data": {
      "text/plain": [
       "2967245    LOVE the cheeses here  They are worth the pric...\n",
       "4773684    This has become our goto sushi place The sushi...\n",
       "1139855    I was very disappointed with the hotel The res...\n",
       "3997153    Love this place  super amazing  staff here is ...\n",
       "4262000    Thank you Dana Having dyed my hair black previ...\n",
       "                                 ...                        \n",
       "1567641    Im a sucker for places like this Get me in fro...\n",
       "4910763    Extremely rude staff  Was told 4 min on a larg...\n",
       "1036315    I live in NYC and went to the RTR here in the ...\n",
       "555962     If you are looking for a trainer then look no ...\n",
       "838267     Awesome food Awesome beer Awesome service Need...\n",
       "Name: text, Length: 10000, dtype: object"
      ]
     },
     "execution_count": 26,
     "metadata": {},
     "output_type": "execute_result"
    }
   ],
   "source": [
    "# 텍스트에서 특수문자를 뺀 나머지 글자만 추출\n",
    "s = data.iloc[0]['text']\n",
    "\n",
    "def remove_punc(x):\n",
    "    new_s = []\n",
    "    for i in x:\n",
    "        if i not in string.punctuation:\n",
    "            new_s.append(i)\n",
    "    new_s = ''.join(new_s)\n",
    "    return new_s\n",
    "\n",
    "data['text'].apply(remove_punc)"
   ]
  },
  {
   "cell_type": "code",
   "execution_count": 29,
   "id": "f618d37e",
   "metadata": {},
   "outputs": [
    {
     "data": {
      "text/plain": [
       "'LOVE the cheeses here  They are worth the price  Great for finding treats for a special dinner or picnic  Nice on sample days Yum Top quality meats Nice selection of non brand frozen veggies  Veggie chips are mega tasty  Always quick and friendly check out  Produce not as stellar as it once was but also not finding better in Madison'"
      ]
     },
     "execution_count": 29,
     "metadata": {},
     "output_type": "execute_result"
    }
   ],
   "source": [
    "# 위의 함수로 만든 코드를 한줄로 만들기\n",
    "''.join([i for i in s if i not in string.punctuation])"
   ]
  },
  {
   "cell_type": "code",
   "execution_count": 30,
   "id": "998f8b46",
   "metadata": {},
   "outputs": [
    {
     "data": {
      "text/html": [
       "<div>\n",
       "<style scoped>\n",
       "    .dataframe tbody tr th:only-of-type {\n",
       "        vertical-align: middle;\n",
       "    }\n",
       "\n",
       "    .dataframe tbody tr th {\n",
       "        vertical-align: top;\n",
       "    }\n",
       "\n",
       "    .dataframe thead th {\n",
       "        text-align: right;\n",
       "    }\n",
       "</style>\n",
       "<table border=\"1\" class=\"dataframe\">\n",
       "  <thead>\n",
       "    <tr style=\"text-align: right;\">\n",
       "      <th></th>\n",
       "      <th>stars</th>\n",
       "      <th>text</th>\n",
       "      <th>useful</th>\n",
       "      <th>funny</th>\n",
       "      <th>cool</th>\n",
       "      <th>text_length</th>\n",
       "    </tr>\n",
       "  </thead>\n",
       "  <tbody>\n",
       "    <tr>\n",
       "      <th>2967245</th>\n",
       "      <td>5</td>\n",
       "      <td>LOVE the cheeses here  They are worth the pric...</td>\n",
       "      <td>0</td>\n",
       "      <td>0</td>\n",
       "      <td>1</td>\n",
       "      <td>347</td>\n",
       "    </tr>\n",
       "    <tr>\n",
       "      <th>4773684</th>\n",
       "      <td>5</td>\n",
       "      <td>This has become our goto sushi place The sushi...</td>\n",
       "      <td>0</td>\n",
       "      <td>0</td>\n",
       "      <td>0</td>\n",
       "      <td>377</td>\n",
       "    </tr>\n",
       "    <tr>\n",
       "      <th>1139855</th>\n",
       "      <td>1</td>\n",
       "      <td>I was very disappointed with the hotel The res...</td>\n",
       "      <td>2</td>\n",
       "      <td>1</td>\n",
       "      <td>1</td>\n",
       "      <td>663</td>\n",
       "    </tr>\n",
       "  </tbody>\n",
       "</table>\n",
       "</div>"
      ],
      "text/plain": [
       "         stars                                               text  useful  \\\n",
       "2967245      5  LOVE the cheeses here  They are worth the pric...       0   \n",
       "4773684      5  This has become our goto sushi place The sushi...       0   \n",
       "1139855      1  I was very disappointed with the hotel The res...       2   \n",
       "\n",
       "         funny  cool  text_length  \n",
       "2967245      0     1          347  \n",
       "4773684      0     0          377  \n",
       "1139855      1     1          663  "
      ]
     },
     "execution_count": 30,
     "metadata": {},
     "output_type": "execute_result"
    }
   ],
   "source": [
    "data['text'] = data['text'].apply(lambda x: ''.join([i for i in x if i not in string.punctuation]))\n",
    "data.head(3)"
   ]
  },
  {
   "cell_type": "code",
   "execution_count": 33,
   "id": "0c58914e",
   "metadata": {
    "scrolled": true
   },
   "outputs": [],
   "source": [
    "from nltk.corpus import stopwords"
   ]
  },
  {
   "cell_type": "code",
   "execution_count": 35,
   "id": "77dd77d0",
   "metadata": {},
   "outputs": [
    {
     "name": "stderr",
     "output_type": "stream",
     "text": [
      "[nltk_data] Downloading package stopwords to\n",
      "[nltk_data]     C:\\Users\\EunHye\\AppData\\Roaming\\nltk_data...\n",
      "[nltk_data]   Unzipping corpora\\stopwords.zip.\n"
     ]
    },
    {
     "data": {
      "text/plain": [
       "True"
      ]
     },
     "execution_count": 35,
     "metadata": {},
     "output_type": "execute_result"
    }
   ],
   "source": [
    "# 실행이 안되는 경우 \n",
    "import nltk\n",
    "nltk.download('stopwords')"
   ]
  },
  {
   "cell_type": "code",
   "execution_count": 46,
   "id": "81cd732f",
   "metadata": {},
   "outputs": [
    {
     "data": {
      "text/plain": [
       "['i', 'me', 'my']"
      ]
     },
     "execution_count": 46,
     "metadata": {},
     "output_type": "execute_result"
    }
   ],
   "source": [
    "# 영어문자에서 상투적인 단어 삭제를 위해 사용\n",
    "stopwords.words('english')[:3]"
   ]
  },
  {
   "cell_type": "code",
   "execution_count": 49,
   "id": "ffe833d4",
   "metadata": {},
   "outputs": [],
   "source": [
    "def stop_w(x):\n",
    "    new_s = []\n",
    "    \n",
    "    for i in x.split():\n",
    "        if i.lower() not in stopwords.words('english'):\n",
    "            new_s.append(i.lower())\n",
    "    return new_s\n",
    "\n",
    "data['text'] = data['text'].apply(stop_w)   \n",
    "\n",
    "# # 아래 코드처럼 한줄로 만들 수 있음\n",
    "# data['text'].apply(lambda x: [i.lower() for i in x.split() if i.lower() not in stopwords.words('english')])"
   ]
  },
  {
   "cell_type": "code",
   "execution_count": null,
   "id": "d3838f39",
   "metadata": {},
   "outputs": [],
   "source": []
  },
  {
   "cell_type": "code",
   "execution_count": null,
   "id": "00b50ecf",
   "metadata": {},
   "outputs": [],
   "source": []
  },
  {
   "cell_type": "code",
   "execution_count": null,
   "id": "7b7e92f3",
   "metadata": {},
   "outputs": [],
   "source": []
  }
 ],
 "metadata": {
  "kernelspec": {
   "display_name": "Python 3 (ipykernel)",
   "language": "python",
   "name": "python3"
  },
  "language_info": {
   "codemirror_mode": {
    "name": "ipython",
    "version": 3
   },
   "file_extension": ".py",
   "mimetype": "text/x-python",
   "name": "python",
   "nbconvert_exporter": "python",
   "pygments_lexer": "ipython3",
   "version": "3.8.11"
  }
 },
 "nbformat": 4,
 "nbformat_minor": 5
}
